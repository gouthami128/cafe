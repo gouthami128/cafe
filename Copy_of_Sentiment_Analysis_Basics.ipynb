{
  "nbformat": 4,
  "nbformat_minor": 0,
  "metadata": {
    "colab": {
      "provenance": [],
      "include_colab_link": true
    },
    "kernelspec": {
      "name": "python3",
      "display_name": "Python 3"
    },
    "language_info": {
      "name": "python"
    }
  },
  "cells": [
    {
      "cell_type": "markdown",
      "metadata": {
        "id": "view-in-github",
        "colab_type": "text"
      },
      "source": [
        "<a href=\"https://colab.research.google.com/github/gouthami128/cafe/blob/main/Copy_of_Sentiment_Analysis_Basics.ipynb\" target=\"_parent\"><img src=\"https://colab.research.google.com/assets/colab-badge.svg\" alt=\"Open In Colab\"/></a>"
      ]
    },
    {
      "cell_type": "code",
      "metadata": {
        "colab": {
          "base_uri": "https://localhost:8080/"
        },
        "id": "GTthrLYmfqCl",
        "outputId": "7d2693e7-d36b-49e3-c029-a679587bf063"
      },
      "source": [
        "import nltk\n",
        "nltk.download('vader_lexicon')"
      ],
      "execution_count": null,
      "outputs": [
        {
          "output_type": "stream",
          "name": "stderr",
          "text": [
            "[nltk_data] Downloading package vader_lexicon to /root/nltk_data...\n"
          ]
        },
        {
          "output_type": "execute_result",
          "data": {
            "text/plain": [
              "True"
            ]
          },
          "metadata": {},
          "execution_count": 2
        }
      ]
    },
    {
      "cell_type": "code",
      "metadata": {
        "id": "XynnyD9bf_Hs"
      },
      "source": [
        "from nltk.sentiment.vader import SentimentIntensityAnalyzer\n",
        "sia = SentimentIntensityAnalyzer()"
      ],
      "execution_count": null,
      "outputs": []
    },
    {
      "cell_type": "code",
      "metadata": {
        "colab": {
          "base_uri": "https://localhost:8080/"
        },
        "id": "xvnzZhvGgQs9",
        "outputId": "6b134896-8837-4cb7-8e4e-5f8814c66dab"
      },
      "source": [
        "sia.polarity_scores(\"good\")"
      ],
      "execution_count": null,
      "outputs": [
        {
          "output_type": "execute_result",
          "data": {
            "text/plain": [
              "{'neg': 0.0, 'neu': 0.0, 'pos': 1.0, 'compound': 0.4404}"
            ]
          },
          "metadata": {},
          "execution_count": 4
        }
      ]
    },
    {
      "cell_type": "code",
      "metadata": {
        "colab": {
          "base_uri": "https://localhost:8080/"
        },
        "id": "zubqgRH-hO3Z",
        "outputId": "0f5b5326-8271-406f-eec8-acce6fc8dfd5"
      },
      "source": [
        "sia.polarity_scores(\"very good\")"
      ],
      "execution_count": null,
      "outputs": [
        {
          "output_type": "execute_result",
          "data": {
            "text/plain": [
              "{'neg': 0.0, 'neu': 0.238, 'pos': 0.762, 'compound': 0.4927}"
            ]
          },
          "metadata": {},
          "execution_count": 5
        }
      ]
    },
    {
      "cell_type": "code",
      "metadata": {
        "colab": {
          "base_uri": "https://localhost:8080/"
        },
        "id": "X1vUUOTDhWmB",
        "outputId": "cf8229f5-a4cb-42b6-bb6f-95afa09f02be"
      },
      "source": [
        "sia.polarity_scores(\"very very good\")"
      ],
      "execution_count": null,
      "outputs": [
        {
          "output_type": "execute_result",
          "data": {
            "text/plain": [
              "{'neg': 0.0, 'neu': 0.366, 'pos': 0.634, 'compound': 0.5379}"
            ]
          },
          "metadata": {},
          "execution_count": 6
        }
      ]
    },
    {
      "cell_type": "code",
      "metadata": {
        "colab": {
          "base_uri": "https://localhost:8080/"
        },
        "id": "IBDsqeUWhhsU",
        "outputId": "4aa90a40-db90-45b2-b367-e1e2691a2d33"
      },
      "source": [
        "sia.polarity_scores(\"best\")"
      ],
      "execution_count": null,
      "outputs": [
        {
          "output_type": "execute_result",
          "data": {
            "text/plain": [
              "{'neg': 0.0, 'neu': 0.0, 'pos': 1.0, 'compound': 0.6369}"
            ]
          },
          "metadata": {},
          "execution_count": 7
        }
      ]
    },
    {
      "cell_type": "code",
      "metadata": {
        "colab": {
          "base_uri": "https://localhost:8080/"
        },
        "id": "eBvADFhBhoOe",
        "outputId": "0925f6d4-823c-4b90-d56a-9636d36bf2e6"
      },
      "source": [
        "sia.polarity_scores(\"best and awesome\")"
      ],
      "execution_count": null,
      "outputs": [
        {
          "output_type": "execute_result",
          "data": {
            "text/plain": [
              "{'neg': 0.0, 'neu': 0.108, 'pos': 0.892, 'compound': 0.8519}"
            ]
          },
          "metadata": {},
          "execution_count": 8
        }
      ]
    },
    {
      "cell_type": "code",
      "metadata": {
        "colab": {
          "base_uri": "https://localhost:8080/"
        },
        "id": "nE74Lo_zhrPI",
        "outputId": "15dbfc0d-5747-4df8-bf3a-2a2cd9c08a81"
      },
      "source": [
        "sia.polarity_scores(\"GOOD\")"
      ],
      "execution_count": null,
      "outputs": [
        {
          "output_type": "execute_result",
          "data": {
            "text/plain": [
              "{'neg': 0.0, 'neu': 0.0, 'pos': 1.0, 'compound': 0.4404}"
            ]
          },
          "metadata": {},
          "execution_count": 9
        }
      ]
    },
    {
      "cell_type": "code",
      "metadata": {
        "colab": {
          "base_uri": "https://localhost:8080/"
        },
        "id": "JxaudjqTh3rZ",
        "outputId": "53dc4c04-3632-47ec-dade-b7e55bbfb819"
      },
      "source": [
        "sia.polarity_scores(\"not good\")"
      ],
      "execution_count": null,
      "outputs": [
        {
          "output_type": "execute_result",
          "data": {
            "text/plain": [
              "{'neg': 0.706, 'neu': 0.294, 'pos': 0.0, 'compound': -0.3412}"
            ]
          },
          "metadata": {},
          "execution_count": 10
        }
      ]
    },
    {
      "cell_type": "code",
      "metadata": {
        "colab": {
          "base_uri": "https://localhost:8080/"
        },
        "id": "Rws0c5FViZH_",
        "outputId": "41fd7fb4-1fe5-47f8-cba3-af32f8e5bb2d"
      },
      "source": [
        "sia.polarity_scores(\"bad\")"
      ],
      "execution_count": null,
      "outputs": [
        {
          "output_type": "execute_result",
          "data": {
            "text/plain": [
              "{'neg': 1.0, 'neu': 0.0, 'pos': 0.0, 'compound': -0.5423}"
            ]
          },
          "metadata": {},
          "execution_count": 11
        }
      ]
    },
    {
      "cell_type": "code",
      "metadata": {
        "colab": {
          "base_uri": "https://localhost:8080/"
        },
        "id": "diSyXzF9icoX",
        "outputId": "5a88f0c8-449b-4f5d-c72d-ea6111710871"
      },
      "source": [
        "sia.polarity_scores(\"worst\")"
      ],
      "execution_count": null,
      "outputs": [
        {
          "output_type": "execute_result",
          "data": {
            "text/plain": [
              "{'neg': 1.0, 'neu': 0.0, 'pos': 0.0, 'compound': -0.6249}"
            ]
          },
          "metadata": {},
          "execution_count": 12
        }
      ]
    },
    {
      "cell_type": "code",
      "metadata": {
        "colab": {
          "base_uri": "https://localhost:8080/"
        },
        "id": "XOWNzyRHieia",
        "outputId": "f9d8ff41-fcbc-4501-b775-7968b9050f59"
      },
      "source": [
        "sia.polarity_scores(\"bad and worst\")"
      ],
      "execution_count": null,
      "outputs": [
        {
          "output_type": "execute_result",
          "data": {
            "text/plain": [
              "{'neg': 0.884, 'neu': 0.116, 'pos': 0.0, 'compound': -0.8225}"
            ]
          },
          "metadata": {},
          "execution_count": 13
        }
      ]
    },
    {
      "cell_type": "code",
      "metadata": {
        "colab": {
          "base_uri": "https://localhost:8080/"
        },
        "id": "jkffVPmkihPz",
        "outputId": "d0db38d5-1fbd-4cfe-c3a0-c5d01d87652b"
      },
      "source": [
        "sia.polarity_scores(\"this was the most entertaining movie of this year\")"
      ],
      "execution_count": null,
      "outputs": [
        {
          "output_type": "execute_result",
          "data": {
            "text/plain": [
              "{'neg': 0.0, 'neu': 0.715, 'pos': 0.285, 'compound': 0.4927}"
            ]
          },
          "metadata": {},
          "execution_count": 14
        }
      ]
    },
    {
      "cell_type": "code",
      "metadata": {
        "colab": {
          "base_uri": "https://localhost:8080/"
        },
        "id": "fs2tr6gFitQl",
        "outputId": "b6575c40-f753-41c1-94d8-004e37ed7161"
      },
      "source": [
        "sia.polarity_scores(\"this movie was the waste of time and money\")"
      ],
      "execution_count": null,
      "outputs": [
        {
          "output_type": "execute_result",
          "data": {
            "text/plain": [
              "{'neg': 0.259, 'neu': 0.741, 'pos': 0.0, 'compound': -0.4215}"
            ]
          },
          "metadata": {},
          "execution_count": 15
        }
      ]
    },
    {
      "cell_type": "code",
      "metadata": {
        "colab": {
          "base_uri": "https://localhost:8080/"
        },
        "id": "oyAgcr_Ni1Bv",
        "outputId": "6511d3f4-b720-44ca-df3b-37a305f9e980"
      },
      "source": [
        "sia.polarity_scores(\"the food was good\")"
      ],
      "execution_count": null,
      "outputs": [
        {
          "output_type": "execute_result",
          "data": {
            "text/plain": [
              "{'neg': 0.0, 'neu': 0.508, 'pos': 0.492, 'compound': 0.4404}"
            ]
          },
          "metadata": {},
          "execution_count": 16
        }
      ]
    },
    {
      "cell_type": "code",
      "metadata": {
        "colab": {
          "base_uri": "https://localhost:8080/"
        },
        "id": "cAW3HQ-xjCwt",
        "outputId": "f1ab5b67-b459-48fa-92bc-13723f4cc53b"
      },
      "source": [
        "sia.polarity_scores(\"the food was GOOD\")"
      ],
      "execution_count": null,
      "outputs": [
        {
          "output_type": "execute_result",
          "data": {
            "text/plain": [
              "{'neg': 0.0, 'neu': 0.452, 'pos': 0.548, 'compound': 0.5622}"
            ]
          },
          "metadata": {},
          "execution_count": 17
        }
      ]
    },
    {
      "cell_type": "code",
      "metadata": {
        "colab": {
          "base_uri": "https://localhost:8080/"
        },
        "id": "hc6xHZ9xjEgt",
        "outputId": "9dad3eda-c507-4552-f272-9d7d3c625762"
      },
      "source": [
        "sia.polarity_scores(\"power star pavan kalyan\")"
      ],
      "execution_count": null,
      "outputs": [
        {
          "output_type": "execute_result",
          "data": {
            "text/plain": [
              "{'neg': 0.0, 'neu': 1.0, 'pos': 0.0, 'compound': 0.0}"
            ]
          },
          "metadata": {},
          "execution_count": 18
        }
      ]
    },
    {
      "cell_type": "code",
      "metadata": {
        "colab": {
          "base_uri": "https://localhost:8080/"
        },
        "id": "AohveTVCjYC7",
        "outputId": "1371130b-c887-4a7b-e67d-8ee0f3f777e4"
      },
      "source": [
        "sia.polarity_scores(\"gud\")"
      ],
      "execution_count": null,
      "outputs": [
        {
          "output_type": "execute_result",
          "data": {
            "text/plain": [
              "{'neg': 0.0, 'neu': 1.0, 'pos': 0.0, 'compound': 0.0}"
            ]
          },
          "metadata": {},
          "execution_count": 19
        }
      ]
    },
    {
      "cell_type": "code",
      "metadata": {
        "colab": {
          "base_uri": "https://localhost:8080/"
        },
        "id": "xs7Tdw4QkWkf",
        "outputId": "a8c99d4c-1001-4427-e052-28f2e433fa5c"
      },
      "source": [
        "sia.polarity_scores(\"3.5/5\")"
      ],
      "execution_count": null,
      "outputs": [
        {
          "output_type": "execute_result",
          "data": {
            "text/plain": [
              "{'neg': 0.0, 'neu': 1.0, 'pos': 0.0, 'compound': 0.0}"
            ]
          },
          "metadata": {},
          "execution_count": 20
        }
      ]
    },
    {
      "cell_type": "code",
      "metadata": {
        "colab": {
          "base_uri": "https://localhost:8080/"
        },
        "id": "b_UzWMeFkbX6",
        "outputId": "91b3ce78-4855-441c-d296-6a29d1afe9ef"
      },
      "source": [
        "sia.polarity_scores(\"gr8\")"
      ],
      "execution_count": null,
      "outputs": [
        {
          "output_type": "execute_result",
          "data": {
            "text/plain": [
              "{'neg': 0.0, 'neu': 0.0, 'pos': 1.0, 'compound': 0.5719}"
            ]
          },
          "metadata": {},
          "execution_count": 21
        }
      ]
    },
    {
      "cell_type": "code",
      "metadata": {
        "colab": {
          "base_uri": "https://localhost:8080/"
        },
        "id": "V-Z0wfcukh1o",
        "outputId": "a77fc11e-29c4-43d4-ffc4-343949496f6e"
      },
      "source": [
        "sia.polarity_scores(\"grt\")"
      ],
      "execution_count": null,
      "outputs": [
        {
          "output_type": "execute_result",
          "data": {
            "text/plain": [
              "{'neg': 0.0, 'neu': 1.0, 'pos': 0.0, 'compound': 0.0}"
            ]
          },
          "metadata": {},
          "execution_count": 22
        }
      ]
    },
    {
      "cell_type": "code",
      "metadata": {
        "colab": {
          "base_uri": "https://localhost:8080/"
        },
        "id": "bMLJhY1skkVI",
        "outputId": "b232cf7b-9aab-44b5-d5a9-fc5d156dc7e3"
      },
      "source": [
        "sia.polarity_scores(\":)\")"
      ],
      "execution_count": null,
      "outputs": [
        {
          "output_type": "execute_result",
          "data": {
            "text/plain": [
              "{'neg': 0.0, 'neu': 0.0, 'pos': 1.0, 'compound': 0.4588}"
            ]
          },
          "metadata": {},
          "execution_count": 23
        }
      ]
    },
    {
      "cell_type": "code",
      "metadata": {
        "colab": {
          "base_uri": "https://localhost:8080/"
        },
        "id": "ieLljZ1_koHb",
        "outputId": "e1c456a0-2eea-48d8-d8d0-213ae32192c8"
      },
      "source": [
        "sia.polarity_scores(\":(\")"
      ],
      "execution_count": null,
      "outputs": [
        {
          "output_type": "execute_result",
          "data": {
            "text/plain": [
              "{'neg': 1.0, 'neu': 0.0, 'pos': 0.0, 'compound': -0.4404}"
            ]
          },
          "metadata": {},
          "execution_count": 24
        }
      ]
    },
    {
      "cell_type": "code",
      "metadata": {
        "colab": {
          "base_uri": "https://localhost:8080/"
        },
        "id": "zJVzetzakqct",
        "outputId": "c54a1aa3-cf2e-40a8-b6fd-d82c35d95622"
      },
      "source": [
        "sia.polarity_scores(\"It's better to be at home instead of watching that movie\")"
      ],
      "execution_count": null,
      "outputs": [
        {
          "output_type": "execute_result",
          "data": {
            "text/plain": [
              "{'neg': 0.0, 'neu': 0.775, 'pos': 0.225, 'compound': 0.4404}"
            ]
          },
          "metadata": {},
          "execution_count": 25
        }
      ]
    },
    {
      "cell_type": "code",
      "metadata": {
        "colab": {
          "base_uri": "https://localhost:8080/"
        },
        "id": "zwJOhOiak39g",
        "outputId": "2679af88-3b5a-485a-d8f2-da944f5d6871"
      },
      "source": [
        "sia.polarity_scores(\"the food was really good! But the service was dreadful\")"
      ],
      "execution_count": null,
      "outputs": [
        {
          "output_type": "execute_result",
          "data": {
            "text/plain": [
              "{'neg': 0.291, 'neu': 0.562, 'pos': 0.147, 'compound': -0.467}"
            ]
          },
          "metadata": {},
          "execution_count": 26
        }
      ]
    },
    {
      "cell_type": "code",
      "metadata": {
        "colab": {
          "base_uri": "https://localhost:8080/"
        },
        "id": "PsefLr_clIIT",
        "outputId": "ca76e4a5-ab02-432c-f011-b36bf56105ea"
      },
      "source": [
        "sia.polarity_scores(\"the food was really good but the service was dreadful\")"
      ],
      "execution_count": null,
      "outputs": [
        {
          "output_type": "execute_result",
          "data": {
            "text/plain": [
              "{'neg': 0.276, 'neu': 0.574, 'pos': 0.15, 'compound': -0.4124}"
            ]
          },
          "metadata": {},
          "execution_count": 27
        }
      ]
    },
    {
      "cell_type": "code",
      "metadata": {
        "colab": {
          "base_uri": "https://localhost:8080/"
        },
        "id": "0EuKutItlPpt",
        "outputId": "74897116-e8f0-446c-ca83-f2a1fd999e07"
      },
      "source": [
        "sia.polarity_scores(\"the food was really bad but the service was awesome\")"
      ],
      "execution_count": null,
      "outputs": [
        {
          "output_type": "execute_result",
          "data": {
            "text/plain": [
              "{'neg': 0.149, 'neu': 0.499, 'pos': 0.352, 'compound': 0.6432}"
            ]
          },
          "metadata": {},
          "execution_count": 28
        }
      ]
    },
    {
      "cell_type": "code",
      "metadata": {
        "id": "RuZTpIT0lcFY",
        "outputId": "384cb9c6-8d59-4a80-9cec-52c308e3cb92",
        "colab": {
          "base_uri": "https://localhost:8080/"
        }
      },
      "source": [
        "sia.polarity_scores(\"_\")"
      ],
      "execution_count": null,
      "outputs": [
        {
          "output_type": "execute_result",
          "data": {
            "text/plain": [
              "{'neg': 0.0, 'neu': 0.0, 'pos': 0.0, 'compound': 0.0}"
            ]
          },
          "metadata": {},
          "execution_count": 31
        }
      ]
    }
  ]
}